{
 "cells": [
  {
   "cell_type": "markdown",
   "metadata": {
    "collapsed": true
   },
   "source": [
    "# Multiples in Number Range\n",
    "\n",
    "Repo: https://github.com/Andrewnetwork/MathematicalProgrammingProblems\n",
    "\n",
    "## 0.) Definitions \n",
    "A *range* of natural numbers, positive integers, can be defined by the notation $[x,y]$ where $x$ is the starting number and $y$ is the ending number. Example: $[0,10] = [0,1,2,3,4,5,6,7,8,9,10]$. "
   ]
  },
  {
   "cell_type": "markdown",
   "metadata": {},
   "source": [
    "In the range $[x,y]$ there are $y-x = \\lvert[x,y]\\lvert$ numbers. Example: $\\lvert[2,5]\\lvert= 5 - 2 = 3.$ There are three numbers in the range $[2,5]$: $[2,3,4]$"
   ]
  },
  {
   "cell_type": "markdown",
   "metadata": {},
   "source": [
    "A number $m$ is a *multiple* of some natural number $n$ if there is some integer $i$ such that $n = im$."
   ]
  },
  {
   "cell_type": "markdown",
   "metadata": {},
   "source": [
    "## 1.) How Many Multiples in a Range\n",
    "\n",
    "Let $x,y,z \\in \\mathbb{N}.$ \n",
    "\n",
    "\n",
    "In the number range $[x,y]$ given $x<y$, how many multiples of $z$ are there? \n",
    "\n",
    "### Solution\n",
    "Haskell Code:\n",
    "```Haskell\n",
    "multInRange strt stop mult = floor((stop-strt)/mult)\n",
    "```\n",
    "Mathematics: \n",
    "$$\\large \\lfloor \\frac{\\lvert[x,y]\\lvert}{z} \\rfloor$$\n",
    "\n",
    "$\\lvert[x,y]\\lvert = y-x$ gives us the total number of natural numbers in this range. $\\lfloor \\frac{\\lvert[x,y]\\lvert}{z}\\rfloor$ gives us how many times z partitions we can get in this range. I.e. multiples.   \n",
    "\n",
    "### Problem Examples\n",
    "\n",
    "#### 1: Within the range of natural numbers $[1,10]$ how many multiples of $3$ are there? \n",
    "\n",
    "Answer: $3$. \n",
    "\n",
    "Given $x=0,y=10,z=3$\n",
    "\n",
    "$\\large \\lfloor \\frac{(y-x)}{z} \\rfloor = 3$\n",
    "\n",
    "In haskell: $[1,2..10] = [1,2,3,4,5,6,7,8,9,10]$\n",
    "\n",
    "Multiples of 3: $[3,6,9]$. \n",
    "\n",
    "Sum: $3 + 3*2 + 3*3 = 6*3 = 18$\n",
    "\n",
    "#### 2:  Within the range of natural numbers $[1,20]$ how many multiples of $3$ are there? \n",
    "3,6,9,12,15,18\n",
    "\n",
    "$3 + 3*2 + 3*3 + 3*4 + 3*5 + 3*6 = 7*3*3 = 7*6 = 21*3 = 63$"
   ]
  },
  {
   "cell_type": "markdown",
   "metadata": {},
   "source": [
    "## 2.) Sum of Multiples in a Range\n",
    "Let $x,y,z \\in \\mathbb{N}.$ \n",
    "\n",
    "In the range $[x,y]$ what is the sum of the multiples of z? \n",
    "\n",
    "### Solution\n",
    "Haskell Code:\n",
    "```Haskell\n",
    "multInRange strt stop mult = floor((stop-strt)/mult)\n",
    "\n",
    "sumNat n = (n*(n+1))/2\n",
    "\n",
    "sumMult strt stop mult = mult * (sumNat (fromInteger (multInRange strt stop mult)))\n",
    "```\n",
    "Mathematics: \n",
    "$$\\large\\begin{align}\n",
    "n = \\lfloor \\frac{(y-x)}{z} \\rfloor\\\\\n",
    "z*\\frac{n*(n+1)}{2}\n",
    "\\end{align}$$\n",
    "\n",
    "### Problem Examples\n",
    "#### 1: In the range [0,100] what's the sum of the multiples of 5?\n",
    "Multiples of $5$ in $[0,100] = [5,10,15,20,25,30,35,40,45,50,55,60,65,70,75,80,85,90,95,100]$\n",
    "\n",
    "\n",
    "How many multiples of $5$ are there in $[0,100]$? \n",
    "$$n = \\lfloor \\frac{(y-x)}{z} \\rfloor == \\lfloor \\frac{100}{5} \\rfloor = 20$$\n",
    "\n",
    "Haskell Code: \n",
    "```Haskell\n",
    "multInRange 0 100 5\n",
    "-- Result: 20\n",
    "```\n",
    "\n",
    "Sum of these multiples:\n",
    "$$5 + (5+5) + (5+5+5) + \\ldots + (5 + 5 + \\ldots n) = 5*1 + 5*2 + 5*3 + \\dots + 5*n =  5*\\sum_{i=1}^{n}{i} = 5 $$ \n",
    "\n",
    "As we see here, to compute the sum of multiples of $5$ in the range $[0,100]$, we compute the sum of integers up to how many multiples are in that range multiplied by $5$. \n",
    "\n",
    "$$\n",
    "\\large\\begin{align}\n",
    "z*\\frac{n*(n+1)}{2} = 5 * \\frac{20*(20+1)}{2} = 1050\n",
    "\\end{align}$$\n",
    "\n",
    "Haskell Code: \n",
    "```Haskell\n",
    "sumMult 0 100 5\n",
    "-- Result: 1050.0\n",
    "```"
   ]
  },
  {
   "cell_type": "markdown",
   "metadata": {},
   "source": [
    "#### 2: In the range [0,100] what's the sum of the multiples of 5 and 6?\n",
    "Multiples of $5$ and $6$ in $[0,100] = $\n",
    "\n",
    "$$[5,6,10,12,15,18,20,24,25,30,35,36,40,42,45,48,50,54,55,60,65,66,70,72,75,78,80,84,85,90,95,96,100]$$\n",
    "\n",
    "We can extend the results from the previous question to multiple multiples on a range.\n",
    "\n",
    "We can find the sum of the multiples of $5$ and $6$ on the range $[0,100]$. Independently by:\n",
    "Haskell Code: \n",
    "```Haskell\n",
    "a = (sumMult 0 100 5)\n",
    "b = (sumMult 0 100 6)\n",
    "```\n",
    "But alas, $a + b$ is not our answer! We need to take into consideration the multiples $5$ and $6$ share in common so we do not include the twice in our calculation. The multiples of $5$ and $6$ are multiples of $5*6 = 30$. Therefore we achieve the result by computing:\n",
    "\n",
    "Haskell Code: \n",
    "```Haskell\n",
    "(sumMult 0 100 5) + (sumMult 0 100 6) - (sumMult 0 100 (5*6) )\n",
    "-- Result: 1686.0\n",
    "```"
   ]
  }
 ],
 "metadata": {
  "kernelspec": {
   "display_name": "Python 3",
   "language": "python",
   "name": "python3"
  },
  "language_info": {
   "codemirror_mode": {
    "name": "ipython",
    "version": 3
   },
   "file_extension": ".py",
   "mimetype": "text/x-python",
   "name": "python",
   "nbconvert_exporter": "python",
   "pygments_lexer": "ipython3",
   "version": "3.5.4"
  }
 },
 "nbformat": 4,
 "nbformat_minor": 2
}
